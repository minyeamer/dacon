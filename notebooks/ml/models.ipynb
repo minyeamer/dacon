{
 "cells": [
  {
   "cell_type": "markdown",
   "metadata": {},
   "source": [
    "# Models"
   ]
  },
  {
   "cell_type": "code",
   "execution_count": 1,
   "metadata": {},
   "outputs": [],
   "source": [
    "import os\n",
    "root_dir = '../../' if os.getcwd().split('/')[-1] != 'customer' else './'\n",
    "os.chdir(root_dir)\n",
    "\n",
    "import warnings\n",
    "warnings.filterwarnings(\"ignore\")\n",
    "\n",
    "import numpy as np\n",
    "import pandas as pd\n",
    "\n",
    "from sklearn.metrics import mean_absolute_error\n",
    "from sklearn.ensemble import GradientBoostingRegressor, ExtraTreesRegressor, RandomForestRegressor\n",
    "from xgboost import XGBRegressor\n",
    "from lightgbm import LGBMRegressor\n",
    "from catboost import CatBoostRegressor\n",
    "import optuna\n",
    "from optuna import Trial, visualization\n",
    "\n",
    "from tqdm import tqdm\n",
    "from vecstack import StackingTransformer\n",
    "from itertools import combinations\n",
    "import joblib\n",
    "\n",
    "import customer_data\n",
    "\n",
    "def NMAE(true, pred):\n",
    "    mae = mean_absolute_error(true,pred)\n",
    "    score = mae / np.mean(np.abs(true))\n",
    "    return score"
   ]
  },
  {
   "cell_type": "code",
   "execution_count": 2,
   "metadata": {},
   "outputs": [
    {
     "name": "stdout",
     "output_type": "stream",
     "text": [
      "(1102, 47) (1108, 47) (1102, 1)\n",
      "(771, 47) (331, 47) (771, 1) (331, 1)\n"
     ]
    }
   ],
   "source": [
    "train_data, test_data, train_label, validation_set = customer_data.load_data()\n",
    "x_train, x_test, y_train, y_test = validation_set\n",
    "print(train_data.shape, test_data.shape, train_label.shape)\n",
    "print(x_train.shape, x_test.shape, y_train.shape, y_test.shape)"
   ]
  },
  {
   "cell_type": "markdown",
   "metadata": {},
   "source": [
    "## ML Models"
   ]
  },
  {
   "cell_type": "code",
   "execution_count": 3,
   "metadata": {},
   "outputs": [],
   "source": [
    "models = [\n",
    "    ('LGBMRegressor',LGBMRegressor(n_estimators=134,max_depth=16,random_state=0)),\n",
    "    ('XGBRegressor',XGBRegressor(n_estimators=194,max_depth=7,random_state=0,verbosity=0)),\n",
    "    ('CatBoostRegressor',CatBoostRegressor(n_estimators=1200,max_depth=8,random_state=0,verbose=0)),\n",
    "    ('GradientBoostingRegressor',GradientBoostingRegressor(n_estimators=1301,max_depth=9,learning_rate=0.01,subsample=0.5,random_state=0)),\n",
    "    ('ExtraTreesRegressor',ExtraTreesRegressor(n_estimators=344,max_depth=16,random_state=0,criterion='absolute_error')),\n",
    "    ('RandomForestRegressor',RandomForestRegressor(n_estimators=177,max_depth=16,random_state=0,criterion='absolute_error'))]"
   ]
  },
  {
   "cell_type": "code",
   "execution_count": 4,
   "metadata": {},
   "outputs": [
    {
     "name": "stdout",
     "output_type": "stream",
     "text": [
      "LGBMRegressor:  0.1844852959826549\n",
      "XGBRegressor:  0.186055533424502\n",
      "CatBoostRegressor:  0.17963770749402333\n",
      "GradientBoostingRegressor:  0.17613013821918308\n",
      "ExtraTreesRegressor:  0.19205121591509647\n",
      "RandomForestRegressor:  0.19746425855670233\n"
     ]
    }
   ],
   "source": [
    "for name, model in models:\n",
    "    model.fit(x_train, y_train)\n",
    "    print(f'{name}: ', NMAE(y_test,model.predict(x_test)))"
   ]
  },
  {
   "cell_type": "markdown",
   "metadata": {},
   "source": [
    "## Soft Voting"
   ]
  },
  {
   "cell_type": "code",
   "execution_count": 5,
   "metadata": {},
   "outputs": [],
   "source": [
    "pred_list = list()\n",
    "for name, model in models:\n",
    "    pred_list.append([model.predict(x_test),name])\n",
    "\n",
    "pred_comb = list()\n",
    "for i in range(2,len(pred_list)+1):\n",
    "    pred_comb += list(combinations(pred_list, i))"
   ]
  },
  {
   "cell_type": "code",
   "execution_count": 6,
   "metadata": {},
   "outputs": [],
   "source": [
    "nmae_list = list()\n",
    "\n",
    "for pred_info in pred_comb:\n",
    "    preds, names = list(), list()\n",
    "\n",
    "    for pred, name in pred_info:\n",
    "        preds.append(pred)\n",
    "        names.append(name)\n",
    "    nmae_list.append([NMAE(y_test,sum(preds)/len(preds)),names])"
   ]
  },
  {
   "cell_type": "code",
   "execution_count": null,
   "metadata": {},
   "outputs": [
    {
     "data": {
      "text/plain": [
       "[0.17293862256220768,\n",
       " ['LGBMRegressor',\n",
       "  'XGBRegressor',\n",
       "  'CatBoostRegressor',\n",
       "  'GradientBoostingRegressor']]"
      ]
     },
     "metadata": {},
     "output_type": "display_data"
    }
   ],
   "source": [
    "sorted(nmae_list)[0]"
   ]
  },
  {
   "cell_type": "markdown",
   "metadata": {},
   "source": [
    "## Hard Voting"
   ]
  },
  {
   "cell_type": "code",
   "execution_count": 14,
   "metadata": {},
   "outputs": [],
   "source": [
    "estimator = [\n",
    "    ('LGBMRegressor',LGBMRegressor(n_estimators=134,max_depth=16,random_state=0)),\n",
    "    ('XGBRegressor',XGBRegressor(n_estimators=194,max_depth=7,random_state=0,verbosity=0)),\n",
    "    ('CatBoostRegressor',CatBoostRegressor(n_estimators=1800,max_depth=8,random_state=0,verbose=0)),\n",
    "    ('GradientBoostingRegressor',GradientBoostingRegressor(n_estimators=1301,max_depth=9,learning_rate=0.01,subsample=0.5,random_state=0)),\n",
    "    ('ExtraTreesRegressor',ExtraTreesRegressor(n_estimators=1746,max_depth=15,random_state=0,criterion='absolute_error')),\n",
    "    ('RandomForestRegressor',RandomForestRegressor(n_estimators=177,max_depth=16,random_state=0,criterion='absolute_error'))]"
   ]
  },
  {
   "cell_type": "code",
   "execution_count": 15,
   "metadata": {},
   "outputs": [],
   "source": [
    "estimators = list()\n",
    "for i in range(3,len(estimator)+1):\n",
    "    estimators += list(combinations(estimator, i))"
   ]
  },
  {
   "cell_type": "code",
   "execution_count": 16,
   "metadata": {},
   "outputs": [],
   "source": [
    "stacks = [StackingTransformer(estimator,\n",
    "                            regression = True,\n",
    "                            metric = NMAE,\n",
    "                            n_folds = 10, stratified = True, shuffle = True,\n",
    "                            random_state = 0, verbose = 0)\n",
    "                            for estimator in estimators]"
   ]
  },
  {
   "cell_type": "code",
   "execution_count": 17,
   "metadata": {},
   "outputs": [],
   "source": [
    "S_models = [\n",
    "    ('LGBMRegressor',LGBMRegressor(n_estimators=100,max_depth=2,random_state=0)),\n",
    "    ('XGBRegressor',XGBRegressor(n_estimators=100,max_depth=2,random_state=0,verbosity=0)),\n",
    "    ('CatBoostRegressor',CatBoostRegressor(n_estimators=100,max_depth=2,random_state=0,verbose=0)),\n",
    "    ('GradientBoostingRegressor',GradientBoostingRegressor(n_estimators=100,max_depth=2,learning_rate=0.01,subsample=0.5,random_state=0)),\n",
    "    ('ExtraTreesRegressor',ExtraTreesRegressor(n_estimators=100,max_depth=2,random_state=0,criterion='absolute_error')),\n",
    "    ('RandomForestRegressor',RandomForestRegressor(n_estimators=100,max_depth=2,random_state=0,criterion='absolute_error'))]"
   ]
  },
  {
   "cell_type": "code",
   "execution_count": null,
   "metadata": {},
   "outputs": [],
   "source": [
    "name_scores = list()\n",
    "\n",
    "for i, stack in enumerate(stacks):\n",
    "    S_train = stack.fit_transform(x_train, y_train)\n",
    "    S_test = stack.transform(x_test)\n",
    "\n",
    "    for name, model in S_models:\n",
    "        model.fit(S_train, y_train)\n",
    "        y_pred = model.predict(S_test)\n",
    "        print(i, NMAE(y_test, y_pred), name)\n",
    "        name_scores.append((NMAE(y_test, y_pred), (stack, model)))"
   ]
  },
  {
   "cell_type": "code",
   "execution_count": null,
   "metadata": {},
   "outputs": [],
   "source": [
    "sorted(name_scores)"
   ]
  },
  {
   "cell_type": "markdown",
   "metadata": {},
   "source": [
    "## Submission (Soft Voting)"
   ]
  },
  {
   "cell_type": "code",
   "execution_count": 9,
   "metadata": {
    "colab": {
     "base_uri": "https://localhost:8080/",
     "height": 206
    },
    "executionInfo": {
     "elapsed": 658,
     "status": "ok",
     "timestamp": 1652235347794,
     "user": {
      "displayName": "병민수",
      "userId": "17405133242292037053"
     },
     "user_tz": -540
    },
    "id": "zEuI40Ql1XRb",
    "outputId": "bc38d527-284c-4cff-f9dc-afbc02daafe9"
   },
   "outputs": [],
   "source": [
    "sample = pd.read_csv('original_data/sample_submission.csv')"
   ]
  },
  {
   "cell_type": "code",
   "execution_count": 10,
   "metadata": {},
   "outputs": [],
   "source": [
    "models = [\n",
    "    ('LGBMRegressor',LGBMRegressor(n_estimators=134,max_depth=16,random_state=0)),\n",
    "    ('XGBRegressor',XGBRegressor(n_estimators=194,max_depth=7,random_state=0,verbosity=0)),\n",
    "    ('CatBoostRegressor',CatBoostRegressor(n_estimators=1800,max_depth=8,random_state=0,verbose=0)),\n",
    "    ('GradientBoostingRegressor',GradientBoostingRegressor(n_estimators=1301,max_depth=9,learning_rate=0.01,subsample=0.5,random_state=0))]"
   ]
  },
  {
   "cell_type": "code",
   "execution_count": 12,
   "metadata": {},
   "outputs": [
    {
     "data": {
      "text/html": [
       "<div>\n",
       "<style scoped>\n",
       "    .dataframe tbody tr th:only-of-type {\n",
       "        vertical-align: middle;\n",
       "    }\n",
       "\n",
       "    .dataframe tbody tr th {\n",
       "        vertical-align: top;\n",
       "    }\n",
       "\n",
       "    .dataframe thead th {\n",
       "        text-align: right;\n",
       "    }\n",
       "</style>\n",
       "<table border=\"1\" class=\"dataframe\">\n",
       "  <thead>\n",
       "    <tr style=\"text-align: right;\">\n",
       "      <th></th>\n",
       "      <th>id</th>\n",
       "      <th>target</th>\n",
       "    </tr>\n",
       "  </thead>\n",
       "  <tbody>\n",
       "    <tr>\n",
       "      <th>0</th>\n",
       "      <td>0</td>\n",
       "      <td>560.310711</td>\n",
       "    </tr>\n",
       "    <tr>\n",
       "      <th>1</th>\n",
       "      <td>1</td>\n",
       "      <td>834.140626</td>\n",
       "    </tr>\n",
       "    <tr>\n",
       "      <th>2</th>\n",
       "      <td>2</td>\n",
       "      <td>801.504095</td>\n",
       "    </tr>\n",
       "    <tr>\n",
       "      <th>3</th>\n",
       "      <td>3</td>\n",
       "      <td>1283.291736</td>\n",
       "    </tr>\n",
       "    <tr>\n",
       "      <th>4</th>\n",
       "      <td>4</td>\n",
       "      <td>1351.009510</td>\n",
       "    </tr>\n",
       "  </tbody>\n",
       "</table>\n",
       "</div>"
      ],
      "text/plain": [
       "   id       target\n",
       "0   0   560.310711\n",
       "1   1   834.140626\n",
       "2   2   801.504095\n",
       "3   3  1283.291736\n",
       "4   4  1351.009510"
      ]
     },
     "execution_count": 12,
     "metadata": {},
     "output_type": "execute_result"
    }
   ],
   "source": [
    "pred = None\n",
    "for name, model in models:\n",
    "    model.fit(train_data, train_label)\n",
    "    if pred is None:\n",
    "        pred = model.predict(test_data)\n",
    "    else:\n",
    "        pred += model.predict(test_data)\n",
    "sample['target'] = pred/len(models)\n",
    "sample.head()"
   ]
  },
  {
   "cell_type": "code",
   "execution_count": 13,
   "metadata": {},
   "outputs": [],
   "source": [
    "sample.to_csv('submission/sample_soft.csv', index=False)"
   ]
  },
  {
   "cell_type": "markdown",
   "metadata": {},
   "source": [
    "## Submission (Hard Voting)"
   ]
  },
  {
   "cell_type": "code",
   "execution_count": 17,
   "metadata": {},
   "outputs": [],
   "source": [
    "estimator = [\n",
    "    ('XGBRegressor',XGBRegressor()),\n",
    "    ('GradientBoostingRegressor',GradientBoostingRegressor()),\n",
    "    ('ExtraTreesRegressor',ExtraTreesRegressor())]"
   ]
  },
  {
   "cell_type": "code",
   "execution_count": 18,
   "metadata": {},
   "outputs": [],
   "source": [
    "stack = StackingTransformer(estimator,\n",
    "                            regression = True,\n",
    "                            metric = NMAE,\n",
    "                            n_folds = 10, stratified = True, shuffle = True,\n",
    "                            random_state = 0, verbose = 0)"
   ]
  },
  {
   "cell_type": "code",
   "execution_count": 10,
   "metadata": {},
   "outputs": [],
   "source": [
    "def objective_rf(trial: Trial):\n",
    "    params = {\n",
    "        'n_estimators': trial.suggest_int('n_estimators',100,1000,100),\n",
    "        'max_depth': trial.suggest_int('max_depth',2,16,2),\n",
    "        'max_features': trial.suggest_categorical('max_features',['auto','sqrt','log2'])\n",
    "    }\n",
    "\n",
    "    model = RandomForestRegressor(**params,random_state=0,criterion='absolute_error')\n",
    "    bst = model.fit(S_train, y_train)\n",
    "    y_pred = bst.predict(S_test)\n",
    "    nmae = NMAE(y_test,y_pred)\n",
    "    return nmae"
   ]
  },
  {
   "cell_type": "code",
   "execution_count": null,
   "metadata": {},
   "outputs": [],
   "source": [
    "study_rf = optuna.create_study(direction='minimize')\n",
    "study_rf.optimize(objective_rf,n_trials=100,show_progress_bar=True)"
   ]
  },
  {
   "cell_type": "code",
   "execution_count": 12,
   "metadata": {},
   "outputs": [
    {
     "name": "stdout",
     "output_type": "stream",
     "text": [
      "NMAE: 0.18562215443542815\n",
      "Best Hyperparameters: {'n_estimators': 500, 'max_depth': 4, 'max_features': 'auto'}\n"
     ]
    }
   ],
   "source": [
    "trial_rf = study_rf.best_trial\n",
    "print('NMAE:', trial_rf.value)\n",
    "print('Best Hyperparameters:', trial_rf.params)"
   ]
  },
  {
   "cell_type": "code",
   "execution_count": 19,
   "metadata": {},
   "outputs": [],
   "source": [
    "model = RandomForestRegressor(**{'n_estimators': 500, 'max_depth': 4, 'max_features': 'auto'})"
   ]
  },
  {
   "cell_type": "code",
   "execution_count": 21,
   "metadata": {},
   "outputs": [
    {
     "data": {
      "text/html": [
       "<div>\n",
       "<style scoped>\n",
       "    .dataframe tbody tr th:only-of-type {\n",
       "        vertical-align: middle;\n",
       "    }\n",
       "\n",
       "    .dataframe tbody tr th {\n",
       "        vertical-align: top;\n",
       "    }\n",
       "\n",
       "    .dataframe thead th {\n",
       "        text-align: right;\n",
       "    }\n",
       "</style>\n",
       "<table border=\"1\" class=\"dataframe\">\n",
       "  <thead>\n",
       "    <tr style=\"text-align: right;\">\n",
       "      <th></th>\n",
       "      <th>id</th>\n",
       "      <th>target</th>\n",
       "    </tr>\n",
       "  </thead>\n",
       "  <tbody>\n",
       "    <tr>\n",
       "      <th>0</th>\n",
       "      <td>0</td>\n",
       "      <td>584.341598</td>\n",
       "    </tr>\n",
       "    <tr>\n",
       "      <th>1</th>\n",
       "      <td>1</td>\n",
       "      <td>919.201658</td>\n",
       "    </tr>\n",
       "    <tr>\n",
       "      <th>2</th>\n",
       "      <td>2</td>\n",
       "      <td>721.753527</td>\n",
       "    </tr>\n",
       "    <tr>\n",
       "      <th>3</th>\n",
       "      <td>3</td>\n",
       "      <td>1388.846843</td>\n",
       "    </tr>\n",
       "    <tr>\n",
       "      <th>4</th>\n",
       "      <td>4</td>\n",
       "      <td>1441.300221</td>\n",
       "    </tr>\n",
       "  </tbody>\n",
       "</table>\n",
       "</div>"
      ],
      "text/plain": [
       "   id       target\n",
       "0   0   584.341598\n",
       "1   1   919.201658\n",
       "2   2   721.753527\n",
       "3   3  1388.846843\n",
       "4   4  1441.300221"
      ]
     },
     "execution_count": 21,
     "metadata": {},
     "output_type": "execute_result"
    }
   ],
   "source": [
    "S_train = stack.fit_transform(train_data, train_label)\n",
    "S_test = stack.transform(test_data)\n",
    "\n",
    "model.fit(S_train, train_label)\n",
    "sample['target'] = model.predict(S_test)\n",
    "sample.head()"
   ]
  },
  {
   "cell_type": "code",
   "execution_count": 22,
   "metadata": {
    "executionInfo": {
     "elapsed": 252,
     "status": "ok",
     "timestamp": 1652235349969,
     "user": {
      "displayName": "병민수",
      "userId": "17405133242292037053"
     },
     "user_tz": -540
    },
    "id": "SOg-Rwzr1pIF"
   },
   "outputs": [],
   "source": [
    "sample.to_csv('submission/sample_stacking.csv',index=False)"
   ]
  },
  {
   "cell_type": "code",
   "execution_count": null,
   "metadata": {},
   "outputs": [],
   "source": [
    "joblib.dump(stack, 'models/stack.pkl', compress=3)\n",
    "joblib.dump(model, 'models/model_stack.pkl', compress=3)"
   ]
  },
  {
   "cell_type": "code",
   "execution_count": null,
   "metadata": {},
   "outputs": [],
   "source": []
  }
 ],
 "metadata": {
  "interpreter": {
   "hash": "b0fa6594d8f4cbf19f97940f81e996739fb7646882a419484c72d19e05852a7e"
  },
  "kernelspec": {
   "display_name": "Python 3.9.12 64-bit",
   "language": "python",
   "name": "python3"
  },
  "language_info": {
   "codemirror_mode": {
    "name": "ipython",
    "version": 3
   },
   "file_extension": ".py",
   "mimetype": "text/x-python",
   "name": "python",
   "nbconvert_exporter": "python",
   "pygments_lexer": "ipython3",
   "version": "3.9.12"
  },
  "orig_nbformat": 4
 },
 "nbformat": 4,
 "nbformat_minor": 2
}
