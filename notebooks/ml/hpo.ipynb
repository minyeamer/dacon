{
 "cells": [
  {
   "cell_type": "markdown",
   "metadata": {},
   "source": [
    "# HPO with Optuna"
   ]
  },
  {
   "cell_type": "code",
   "execution_count": 1,
   "metadata": {},
   "outputs": [],
   "source": [
    "import os\n",
    "root_dir = '../../' if os.getcwd().split('/')[-1] != 'customer' else './'\n",
    "os.chdir(root_dir)\n",
    "\n",
    "import warnings\n",
    "warnings.filterwarnings(\"ignore\")\n",
    "\n",
    "import numpy as np\n",
    "\n",
    "from sklearn.metrics import mean_absolute_error\n",
    "from sklearn.linear_model import BayesianRidge, ElasticNet, OrthogonalMatchingPursuit\n",
    "from sklearn.ensemble import GradientBoostingRegressor, ExtraTreesRegressor, RandomForestRegressor\n",
    "from xgboost import XGBRegressor\n",
    "from lightgbm import LGBMRegressor\n",
    "from catboost import CatBoostRegressor\n",
    "import optuna\n",
    "from optuna import Trial, visualization\n",
    "\n",
    "import customer_data\n",
    "\n",
    "def NMAE(true, pred):\n",
    "    mae = mean_absolute_error(true,pred)\n",
    "    score = mae / np.mean(np.abs(true))\n",
    "    return score"
   ]
  },
  {
   "cell_type": "code",
   "execution_count": 2,
   "metadata": {},
   "outputs": [
    {
     "name": "stdout",
     "output_type": "stream",
     "text": [
      "(1102, 47) (1108, 47) (1102, 1)\n",
      "(771, 47) (331, 47) (771, 1) (331, 1)\n"
     ]
    }
   ],
   "source": [
    "train_data, test_data, train_label, validation_set = customer_data.load_data()\n",
    "x_train, x_test, y_train, y_test = validation_set\n",
    "print(train_data.shape, test_data.shape, train_label.shape)\n",
    "print(x_train.shape, x_test.shape, y_train.shape, y_test.shape)"
   ]
  },
  {
   "cell_type": "markdown",
   "metadata": {},
   "source": [
    "## LightGBM"
   ]
  },
  {
   "cell_type": "code",
   "execution_count": 3,
   "metadata": {},
   "outputs": [],
   "source": [
    "def objective_lgbm(trial: Trial):\n",
    "    params = {\n",
    "        'n_estimators': trial.suggest_int('n_estimators',100,2000),\n",
    "        'max_depth': trial.suggest_int('max_depth',2,16),\n",
    "    }\n",
    "\n",
    "    model = LGBMRegressor(**params,random_state=0)\n",
    "    bst = model.fit(x_train, y_train)\n",
    "    y_pred = bst.predict(x_test)\n",
    "    nmae = NMAE(y_test,y_pred)\n",
    "    return nmae"
   ]
  },
  {
   "cell_type": "code",
   "execution_count": null,
   "metadata": {},
   "outputs": [],
   "source": [
    "study_lgbm = optuna.create_study(direction='minimize')\n",
    "study_lgbm.optimize(objective_lgbm,n_trials=100)"
   ]
  },
  {
   "cell_type": "code",
   "execution_count": 5,
   "metadata": {},
   "outputs": [
    {
     "name": "stdout",
     "output_type": "stream",
     "text": [
      "NMAE: 0.1844852959826549\n",
      "Best Hyperparameters: {'n_estimators': 134, 'max_depth': 16}\n"
     ]
    }
   ],
   "source": [
    "trial_lgbm = study_lgbm.best_trial\n",
    "print('NMAE:', trial_lgbm.value)\n",
    "print('Best Hyperparameters:', trial_lgbm.params)"
   ]
  },
  {
   "cell_type": "markdown",
   "metadata": {},
   "source": [
    "# XGBoost"
   ]
  },
  {
   "cell_type": "code",
   "execution_count": 6,
   "metadata": {},
   "outputs": [],
   "source": [
    "def objective_xgb(trial: Trial):\n",
    "    params = {\n",
    "        'n_estimators': trial.suggest_int('n_estimators',100,2000),\n",
    "        'max_depth': trial.suggest_int('max_depth',2,16),\n",
    "    }\n",
    "\n",
    "    model = XGBRegressor(**params,random_state=0,verbosity=0)\n",
    "    bst = model.fit(x_train, y_train)\n",
    "    y_pred = bst.predict(x_test)\n",
    "    nmae = NMAE(y_test,y_pred)\n",
    "    return nmae"
   ]
  },
  {
   "cell_type": "code",
   "execution_count": null,
   "metadata": {},
   "outputs": [],
   "source": [
    "study_xgb = optuna.create_study(direction='minimize')\n",
    "study_xgb.optimize(objective_xgb,n_trials=100)"
   ]
  },
  {
   "cell_type": "code",
   "execution_count": 8,
   "metadata": {},
   "outputs": [
    {
     "name": "stdout",
     "output_type": "stream",
     "text": [
      "NMAE: 0.186055533424502\n",
      "Best Hyperparameters: {'n_estimators': 194, 'max_depth': 7}\n"
     ]
    }
   ],
   "source": [
    "trial_xgb = study_xgb.best_trial\n",
    "print('NMAE:', trial_xgb.value)\n",
    "print('Best Hyperparameters:', trial_xgb.params)"
   ]
  },
  {
   "cell_type": "markdown",
   "metadata": {},
   "source": [
    "# CatBoost"
   ]
  },
  {
   "cell_type": "code",
   "execution_count": 37,
   "metadata": {},
   "outputs": [],
   "source": [
    "def objective_cat(trial: Trial):\n",
    "    params = {\n",
    "        'n_estimators': trial.suggest_int('n_estimators',100,2000,50),\n",
    "        'max_depth': trial.suggest_int('max_depth',2,16,2),\n",
    "        # 'learning_rate': trial.suggest_categorical('learning_rate',[0.001,0.01,1]),\n",
    "        # 'subsample': trial.suggest_categorical('subsample',[0.5,0.75,1])\n",
    "    }\n",
    "\n",
    "    model = CatBoostRegressor(**params,random_state=0,verbose=0)\n",
    "    bst = model.fit(x_train, y_train)\n",
    "    y_pred = bst.predict(x_test)\n",
    "    nmae = NMAE(y_test,y_pred)\n",
    "    return nmae"
   ]
  },
  {
   "cell_type": "code",
   "execution_count": null,
   "metadata": {},
   "outputs": [],
   "source": [
    "study_cat = optuna.create_study(direction='minimize')\n",
    "study_cat.optimize(objective_cat,n_trials=100)"
   ]
  },
  {
   "cell_type": "code",
   "execution_count": 39,
   "metadata": {},
   "outputs": [
    {
     "name": "stdout",
     "output_type": "stream",
     "text": [
      "NMAE: 0.17963770749402333\n",
      "Best Hyperparameters: {'n_estimators': 1200, 'max_depth': 8}\n"
     ]
    }
   ],
   "source": [
    "trial_cat = study_cat.best_trial\n",
    "print('NMAE:', trial_cat.value)\n",
    "print('Best Hyperparameters:', trial_cat.params)"
   ]
  },
  {
   "cell_type": "markdown",
   "metadata": {},
   "source": [
    "## Gradient Boosting"
   ]
  },
  {
   "cell_type": "code",
   "execution_count": 31,
   "metadata": {},
   "outputs": [],
   "source": [
    "def objective_gbr(trial: Trial):\n",
    "    params = {\n",
    "        'n_estimators': trial.suggest_int('n_estimators',100,2000),\n",
    "        'max_depth': trial.suggest_int('max_depth',2,16),\n",
    "        'learning_rate': trial.suggest_categorical('learning_rate',[0.001,0.01,1]),\n",
    "        'subsample': trial.suggest_categorical('subsample',[0.5,0.75,1])\n",
    "    }\n",
    "\n",
    "    model = GradientBoostingRegressor(**params,random_state=0)\n",
    "    bst = model.fit(x_train, y_train)\n",
    "    y_pred = bst.predict(x_test)\n",
    "    nmae = NMAE(y_test,y_pred)\n",
    "    return nmae"
   ]
  },
  {
   "cell_type": "code",
   "execution_count": null,
   "metadata": {},
   "outputs": [],
   "source": [
    "study_gbr = optuna.create_study(direction='minimize')\n",
    "study_gbr.optimize(objective_gbr,n_trials=100)"
   ]
  },
  {
   "cell_type": "code",
   "execution_count": null,
   "metadata": {},
   "outputs": [
    {
     "name": "stdout",
     "output_type": "stream",
     "text": [
      "NMAE: 0.17613013821918308\n",
      "Best Hyperparameters: {'n_estimators': 1301, 'max_depth': 9, 'learning_rate': 0.01, 'subsample': 0.5}\n"
     ]
    }
   ],
   "source": [
    "trial_gbr = study_gbr.best_trial\n",
    "print('NMAE:', trial_gbr.value)\n",
    "print('Best Hyperparameters:', trial_gbr.params)"
   ]
  },
  {
   "cell_type": "markdown",
   "metadata": {},
   "source": [
    "## Extra Trees"
   ]
  },
  {
   "cell_type": "code",
   "execution_count": 34,
   "metadata": {},
   "outputs": [],
   "source": [
    "def objective_et(trial: Trial):\n",
    "    params = {\n",
    "        'n_estimators': trial.suggest_int('n_estimators',100,2000),\n",
    "        'max_depth': trial.suggest_int('max_depth',2,16)\n",
    "    }\n",
    "\n",
    "    model = ExtraTreesRegressor(**params,random_state=0,criterion='absolute_error')\n",
    "    bst = model.fit(x_train, y_train)\n",
    "    y_pred = bst.predict(x_test)\n",
    "    nmae = NMAE(y_test,y_pred)\n",
    "    return nmae"
   ]
  },
  {
   "cell_type": "code",
   "execution_count": null,
   "metadata": {},
   "outputs": [],
   "source": [
    "study_et = optuna.create_study(direction='minimize')\n",
    "study_et.optimize(objective_et,n_trials=100)"
   ]
  },
  {
   "cell_type": "code",
   "execution_count": 36,
   "metadata": {},
   "outputs": [
    {
     "name": "stdout",
     "output_type": "stream",
     "text": [
      "NMAE: 0.19205121591509647\n",
      "Best Hyperparameters: {'n_estimators': 344, 'max_depth': 16}\n"
     ]
    }
   ],
   "source": [
    "trial_et = study_et.best_trial\n",
    "print('NMAE:', trial_et.value)\n",
    "print('Best Hyperparameters:', trial_et.params)"
   ]
  },
  {
   "cell_type": "markdown",
   "metadata": {},
   "source": [
    "## Random Forest"
   ]
  },
  {
   "cell_type": "code",
   "execution_count": 17,
   "metadata": {},
   "outputs": [],
   "source": [
    "def objective_rf(trial: Trial):\n",
    "    params = {\n",
    "        'n_estimators': trial.suggest_int('n_estimators',100,2000),\n",
    "        'max_depth': trial.suggest_int('max_depth',2,16)\n",
    "    }\n",
    "\n",
    "    model = RandomForestRegressor(**params,random_state=0,criterion='absolute_error')\n",
    "    bst = model.fit(x_train, y_train)\n",
    "    y_pred = bst.predict(x_test)\n",
    "    nmae = NMAE(y_test,y_pred)\n",
    "    return nmae"
   ]
  },
  {
   "cell_type": "code",
   "execution_count": null,
   "metadata": {},
   "outputs": [],
   "source": [
    "study_rf = optuna.create_study(direction='minimize')\n",
    "study_rf.optimize(objective_rf,n_trials=100)"
   ]
  },
  {
   "cell_type": "code",
   "execution_count": 22,
   "metadata": {},
   "outputs": [
    {
     "name": "stdout",
     "output_type": "stream",
     "text": [
      "NMAE: 0.19746425855670233\n",
      "Best Hyperparameters: {'n_estimators': 177, 'max_depth': 16}\n"
     ]
    }
   ],
   "source": [
    "trial_rf = study_rf.best_trial\n",
    "print('NMAE:', trial_rf.value)\n",
    "print('Best Hyperparameters:', trial_rf.params)"
   ]
  },
  {
   "cell_type": "code",
   "execution_count": null,
   "metadata": {},
   "outputs": [],
   "source": []
  }
 ],
 "metadata": {
  "interpreter": {
   "hash": "b0fa6594d8f4cbf19f97940f81e996739fb7646882a419484c72d19e05852a7e"
  },
  "kernelspec": {
   "display_name": "Python 3.9.12 64-bit",
   "language": "python",
   "name": "python3"
  },
  "language_info": {
   "codemirror_mode": {
    "name": "ipython",
    "version": 3
   },
   "file_extension": ".py",
   "mimetype": "text/x-python",
   "name": "python",
   "nbconvert_exporter": "python",
   "pygments_lexer": "ipython3",
   "version": "3.9.12"
  },
  "orig_nbformat": 4
 },
 "nbformat": 4,
 "nbformat_minor": 2
}
